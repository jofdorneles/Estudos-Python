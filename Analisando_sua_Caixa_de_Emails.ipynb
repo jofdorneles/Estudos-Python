{
  "nbformat": 4,
  "nbformat_minor": 0,
  "metadata": {
    "colab": {
      "name": "Cópia de Analisando sua Caixa de Emails.ipynb",
      "provenance": [],
      "collapsed_sections": [],
      "toc_visible": true
    },
    "kernelspec": {
      "name": "python3",
      "display_name": "Python 3"
    }
  },
  "cells": [
    {
      "cell_type": "markdown",
      "metadata": {
        "id": "jjYq8hKyOM3T"
      },
      "source": [
        "<img alt=\"Colaboratory logo\" width=\"15%\" src=\"https://raw.githubusercontent.com/carlosfab/escola-data-science/master/img/novo_logo_bg_claro.png\">\n",
        "\n",
        "#### **Python do Zero**\n",
        "*by [sigmoidal.ai](https://sigmoidal.ai)*\n",
        "\n",
        "---\n",
        "\n",
        "# Analisando sua Caixa de Emails\n",
        "\n",
        "\n",
        "\n",
        "Nessa aula, veremos como acessar, baixar e trabalhar com os dados que recebemos por e-mail."
      ]
    },
    {
      "cell_type": "code",
      "metadata": {
        "colab": {
          "base_uri": "https://localhost:8080/"
        },
        "id": "EHiWBiTcsPGk",
        "outputId": "8ffcb72d-8183-4bc8-df3a-b47d12b8fb35"
      },
      "source": [
        "from google.colab import drive\n",
        "drive.mount('/content/drive')"
      ],
      "execution_count": 1,
      "outputs": [
        {
          "output_type": "stream",
          "text": [
            "Mounted at /content/drive\n"
          ],
          "name": "stdout"
        }
      ]
    },
    {
      "cell_type": "code",
      "metadata": {
        "id": "xRiwElxQ7w88"
      },
      "source": [
        "# importando os pacotes necessários\n",
        "import pandas as pd\n",
        "import numpy as np\n",
        "import matplotlib.pyplot as plt\n",
        "import mailbox\n",
        "import re\n",
        "import pytz\n",
        "import seaborn as sns"
      ],
      "execution_count": 2,
      "outputs": []
    },
    {
      "cell_type": "code",
      "metadata": {
        "colab": {
          "base_uri": "https://localhost:8080/"
        },
        "id": "C4DnLEuM_zJv",
        "outputId": "91e44b78-b996-4f9b-9626-8acd522d4f1b"
      },
      "source": [
        "!unzip /content/drive/MyDrive/DataScience/Sigmoidal/PDZ/takeout-20210510T211857Z-001.zip"
      ],
      "execution_count": 3,
      "outputs": [
        {
          "output_type": "stream",
          "text": [
            "Archive:  /content/drive/MyDrive/DataScience/Sigmoidal/PDZ/takeout-20210510T211857Z-001.zip\n",
            "  inflating: Takeout/E-mail/Configurações do usuário/Assinaturas.json  \n",
            "  inflating: Takeout/E-mail/Todos os e-mails, incluindo Spam e Lixeira.mbox  \n",
            "  inflating: Takeout/navegador_arquivo.html  \n"
          ],
          "name": "stdout"
        }
      ]
    },
    {
      "cell_type": "code",
      "metadata": {
        "id": "r2kSgDGG8Sei"
      },
      "source": [
        "# carregando o arquivo\n",
        "mbox = mailbox.mbox(\"/content/Takeout/E-mail/Todos os e-mails, incluindo Spam e Lixeira.mbox\")"
      ],
      "execution_count": 4,
      "outputs": []
    },
    {
      "cell_type": "code",
      "metadata": {
        "id": "gsSzk35S-KT0",
        "colab": {
          "base_uri": "https://localhost:8080/"
        },
        "outputId": "8d2a135b-792a-4c21-8854-f7101b76a31f"
      },
      "source": [
        "# visualizando as chaves\n",
        "mbox[0].keys()"
      ],
      "execution_count": 5,
      "outputs": [
        {
          "output_type": "execute_result",
          "data": {
            "text/plain": [
              "['X-GM-THRID',\n",
              " 'X-Gmail-Labels',\n",
              " 'Delivered-To',\n",
              " 'Received',\n",
              " 'X-Google-Smtp-Source',\n",
              " 'X-Received',\n",
              " 'ARC-Seal',\n",
              " 'ARC-Message-Signature',\n",
              " 'ARC-Authentication-Results',\n",
              " 'Return-Path',\n",
              " 'Received',\n",
              " 'Received-SPF',\n",
              " 'Authentication-Results',\n",
              " 'Received',\n",
              " 'DKIM-Signature',\n",
              " 'DKIM-Signature',\n",
              " 'Return-Path',\n",
              " 'X-HS-Cid',\n",
              " 'List-Unsubscribe',\n",
              " 'Date',\n",
              " 'From',\n",
              " 'Reply-To',\n",
              " 'To',\n",
              " 'Message-ID',\n",
              " 'Subject',\n",
              " 'MIME-Version',\n",
              " 'Content-Type',\n",
              " 'Precedence',\n",
              " 'X-Report-Abuse-To',\n",
              " 'Feedback-ID']"
            ]
          },
          "metadata": {
            "tags": []
          },
          "execution_count": 5
        }
      ]
    },
    {
      "cell_type": "markdown",
      "metadata": {
        "id": "RQNa-bKiUm4C"
      },
      "source": [
        "## Criando o Data Frame\n",
        "Para que possamos trabalhar melhor com esses dados, vamos extrair os mesmos, salvá-los em um dicionário e construir com ele um data frame.\n",
        "\n",
        "Para isso, vamos criar um dicionário, onde as chaves são as informações que queremos puxar, e os valores serão as entradas de cada e-mail, para cada variável de interesse.\n",
        "\n",
        "Criaremos um loop for, para percorrer nosso arqvuio mbox, e pra cada mensagem, pegar as informações e adicioná-las aoo nosso dicionário."
      ]
    },
    {
      "cell_type": "code",
      "metadata": {
        "id": "GAGjVkbVF7zi"
      },
      "source": [
        "# criando o dicionário\n",
        "email_dict = {\n",
        "    'date':[],\n",
        "    'from':[],\n",
        "    'to':[],\n",
        "    'subject':[],\n",
        "    'labels':[]\n",
        "}\n",
        "\n",
        "#coletando os dados\n",
        "for message in mbox:\n",
        "  email_dict['date'].append(message['date'])\n",
        "  email_dict['from'].append(message['from'])\n",
        "  email_dict['to'].append(message['to'])\n",
        "  email_dict['subject'].append(message['subject'])\n",
        "  email_dict['labels'].append(message['X-Gmail-Labels'])\n"
      ],
      "execution_count": 6,
      "outputs": []
    },
    {
      "cell_type": "code",
      "metadata": {
        "id": "YgCgQrryJ8fJ"
      },
      "source": [
        "# transformando em dataframe\n",
        "df = pd.DataFrame(email_dict)"
      ],
      "execution_count": 7,
      "outputs": []
    },
    {
      "cell_type": "code",
      "metadata": {
        "id": "Bfozb_IvMAPO",
        "colab": {
          "base_uri": "https://localhost:8080/",
          "height": 598
        },
        "outputId": "f2eb9c52-acc8-48bf-cd5a-ed652b457ac6"
      },
      "source": [
        "# visualizando as primeiras entradas\n",
        "df.head()"
      ],
      "execution_count": 8,
      "outputs": [
        {
          "output_type": "execute_result",
          "data": {
            "text/html": [
              "<div>\n",
              "<style scoped>\n",
              "    .dataframe tbody tr th:only-of-type {\n",
              "        vertical-align: middle;\n",
              "    }\n",
              "\n",
              "    .dataframe tbody tr th {\n",
              "        vertical-align: top;\n",
              "    }\n",
              "\n",
              "    .dataframe thead th {\n",
              "        text-align: right;\n",
              "    }\n",
              "</style>\n",
              "<table border=\"1\" class=\"dataframe\">\n",
              "  <thead>\n",
              "    <tr style=\"text-align: right;\">\n",
              "      <th></th>\n",
              "      <th>date</th>\n",
              "      <th>from</th>\n",
              "      <th>to</th>\n",
              "      <th>subject</th>\n",
              "      <th>labels</th>\n",
              "    </tr>\n",
              "  </thead>\n",
              "  <tbody>\n",
              "    <tr>\n",
              "      <th>0</th>\n",
              "      <td>Fri, 7 May 2021 09:28:27 -0300</td>\n",
              "      <td>Suno Research &lt;suno@suno.com.br&gt;</td>\n",
              "      <td>jofdorneles@gmail.com</td>\n",
              "      <td>Suno Call: Por que a complexidade nos atrai?</td>\n",
              "      <td>=?UTF-8?Q?Caixa_de_entrada,Importante,A?=\\r\\n ...</td>\n",
              "    </tr>\n",
              "    <tr>\n",
              "      <th>1</th>\n",
              "      <td>Mon, 03 May 2021 07:27:21 -0500</td>\n",
              "      <td>\"Felipe Santana\" &lt;contato@minerandodados.com.br&gt;</td>\n",
              "      <td>=?utf-8?Q?Jo=C3=A3o_Tournier?=\\r\\n &lt;jofdornele...</td>\n",
              "      <td>Analisando dados do mercado financeiro com Python</td>\n",
              "      <td>=?UTF-8?Q?Caixa_de_entrada,Importante,A?=\\r\\n ...</td>\n",
              "    </tr>\n",
              "    <tr>\n",
              "      <th>2</th>\n",
              "      <td>Mon, 10 May 2021 21:10:44 +0000 (UTC)</td>\n",
              "      <td>LinkedIn &lt;jobs-listings@linkedin.com&gt;</td>\n",
              "      <td>=?UTF-8?Q?Jo=C3=A3o_Felipe_Dorneles_Tournier?=...</td>\n",
              "      <td>=?UTF-8?Q?Exact_Sales_est=C3=A1_procurando:?=\\...</td>\n",
              "      <td>=?UTF-8?Q?Caixa_de_entrada,Categoria:_redes_so...</td>\n",
              "    </tr>\n",
              "    <tr>\n",
              "      <th>3</th>\n",
              "      <td>Wed, 5 May 2021 16:46:23 +0000</td>\n",
              "      <td>Inter &lt;no-reply@bancointer.com.br&gt;</td>\n",
              "      <td>jofdorneles@gmail.com</td>\n",
              "      <td>Recebemos o pagamento da sua fatura</td>\n",
              "      <td>=?UTF-8?Q?Caixa_de_entrada,Importante,A?=\\r\\n ...</td>\n",
              "    </tr>\n",
              "    <tr>\n",
              "      <th>4</th>\n",
              "      <td>Mon, 03 May 2021 22:30:10 +0000 (UTC)</td>\n",
              "      <td>\"Udacity\" &lt;support@udacity.com&gt;</td>\n",
              "      <td>=?UTF-8?B?Sm/Do28gRmVsaXBlIERvcm5lbGVz?= &lt;jofd...</td>\n",
              "      <td>=?UTF-8?B?VGhlcmXigJlzIHN0aWxsIHRpbWUgdG8gZ2V0...</td>\n",
              "      <td>=?UTF-8?Q?Caixa_de_entrada,Categoria:_promo=C3...</td>\n",
              "    </tr>\n",
              "  </tbody>\n",
              "</table>\n",
              "</div>"
            ],
            "text/plain": [
              "                                    date  ...                                             labels\n",
              "0         Fri, 7 May 2021 09:28:27 -0300  ...  =?UTF-8?Q?Caixa_de_entrada,Importante,A?=\\r\\n ...\n",
              "1        Mon, 03 May 2021 07:27:21 -0500  ...  =?UTF-8?Q?Caixa_de_entrada,Importante,A?=\\r\\n ...\n",
              "2  Mon, 10 May 2021 21:10:44 +0000 (UTC)  ...  =?UTF-8?Q?Caixa_de_entrada,Categoria:_redes_so...\n",
              "3         Wed, 5 May 2021 16:46:23 +0000  ...  =?UTF-8?Q?Caixa_de_entrada,Importante,A?=\\r\\n ...\n",
              "4  Mon, 03 May 2021 22:30:10 +0000 (UTC)  ...  =?UTF-8?Q?Caixa_de_entrada,Categoria:_promo=C3...\n",
              "\n",
              "[5 rows x 5 columns]"
            ]
          },
          "metadata": {
            "tags": []
          },
          "execution_count": 8
        }
      ]
    },
    {
      "cell_type": "code",
      "metadata": {
        "id": "EeewqwoEMIsX",
        "colab": {
          "base_uri": "https://localhost:8080/"
        },
        "outputId": "66459d41-97ca-4057-8b92-4e3f44668c08"
      },
      "source": [
        "# verificando os tipos\n",
        "df.dtypes"
      ],
      "execution_count": 9,
      "outputs": [
        {
          "output_type": "execute_result",
          "data": {
            "text/plain": [
              "date       object\n",
              "from       object\n",
              "to         object\n",
              "subject    object\n",
              "labels     object\n",
              "dtype: object"
            ]
          },
          "metadata": {
            "tags": []
          },
          "execution_count": 9
        }
      ]
    },
    {
      "cell_type": "markdown",
      "metadata": {
        "id": "ZR00qmLZVYPw"
      },
      "source": [
        "Ao verificar os tipos das variáveis, já conseguimos perceber que precisaremos trablhar a coluna `date`. Essa coluna nos traz informações de data, mas está em formato `object`, é uma string.\n",
        "\n",
        "Portanto, vamos converter para o formato `datetime`. Entretanto, essa coluna nos trás informácões de Time Zones, e precisamos passar o parâmetro `utc=True`, para que a conversão possa ser feita corretamente."
      ]
    },
    {
      "cell_type": "code",
      "metadata": {
        "id": "DfmsPMeaMJ1S"
      },
      "source": [
        "# convertendo date para datetime\n",
        "df['date'] = pd.to_datetime(df['date'], utc=True, errors ='coerce')"
      ],
      "execution_count": 10,
      "outputs": []
    },
    {
      "cell_type": "code",
      "metadata": {
        "id": "-SeJneUOMN8z",
        "colab": {
          "base_uri": "https://localhost:8080/",
          "height": 343
        },
        "outputId": "fcaaed6a-f092-46f4-ce06-e69960b7dfce"
      },
      "source": [
        "# verificando as primeiras entradas\n",
        "df.head()"
      ],
      "execution_count": 11,
      "outputs": [
        {
          "output_type": "execute_result",
          "data": {
            "text/html": [
              "<div>\n",
              "<style scoped>\n",
              "    .dataframe tbody tr th:only-of-type {\n",
              "        vertical-align: middle;\n",
              "    }\n",
              "\n",
              "    .dataframe tbody tr th {\n",
              "        vertical-align: top;\n",
              "    }\n",
              "\n",
              "    .dataframe thead th {\n",
              "        text-align: right;\n",
              "    }\n",
              "</style>\n",
              "<table border=\"1\" class=\"dataframe\">\n",
              "  <thead>\n",
              "    <tr style=\"text-align: right;\">\n",
              "      <th></th>\n",
              "      <th>date</th>\n",
              "      <th>from</th>\n",
              "      <th>to</th>\n",
              "      <th>subject</th>\n",
              "      <th>labels</th>\n",
              "    </tr>\n",
              "  </thead>\n",
              "  <tbody>\n",
              "    <tr>\n",
              "      <th>0</th>\n",
              "      <td>2021-05-07 12:28:27+00:00</td>\n",
              "      <td>Suno Research &lt;suno@suno.com.br&gt;</td>\n",
              "      <td>jofdorneles@gmail.com</td>\n",
              "      <td>Suno Call: Por que a complexidade nos atrai?</td>\n",
              "      <td>=?UTF-8?Q?Caixa_de_entrada,Importante,A?=\\r\\n ...</td>\n",
              "    </tr>\n",
              "    <tr>\n",
              "      <th>1</th>\n",
              "      <td>2021-05-03 12:27:21+00:00</td>\n",
              "      <td>\"Felipe Santana\" &lt;contato@minerandodados.com.br&gt;</td>\n",
              "      <td>=?utf-8?Q?Jo=C3=A3o_Tournier?=\\r\\n &lt;jofdornele...</td>\n",
              "      <td>Analisando dados do mercado financeiro com Python</td>\n",
              "      <td>=?UTF-8?Q?Caixa_de_entrada,Importante,A?=\\r\\n ...</td>\n",
              "    </tr>\n",
              "    <tr>\n",
              "      <th>2</th>\n",
              "      <td>2021-05-10 21:10:44+00:00</td>\n",
              "      <td>LinkedIn &lt;jobs-listings@linkedin.com&gt;</td>\n",
              "      <td>=?UTF-8?Q?Jo=C3=A3o_Felipe_Dorneles_Tournier?=...</td>\n",
              "      <td>=?UTF-8?Q?Exact_Sales_est=C3=A1_procurando:?=\\...</td>\n",
              "      <td>=?UTF-8?Q?Caixa_de_entrada,Categoria:_redes_so...</td>\n",
              "    </tr>\n",
              "    <tr>\n",
              "      <th>3</th>\n",
              "      <td>2021-05-05 16:46:23+00:00</td>\n",
              "      <td>Inter &lt;no-reply@bancointer.com.br&gt;</td>\n",
              "      <td>jofdorneles@gmail.com</td>\n",
              "      <td>Recebemos o pagamento da sua fatura</td>\n",
              "      <td>=?UTF-8?Q?Caixa_de_entrada,Importante,A?=\\r\\n ...</td>\n",
              "    </tr>\n",
              "    <tr>\n",
              "      <th>4</th>\n",
              "      <td>2021-05-03 22:30:10+00:00</td>\n",
              "      <td>\"Udacity\" &lt;support@udacity.com&gt;</td>\n",
              "      <td>=?UTF-8?B?Sm/Do28gRmVsaXBlIERvcm5lbGVz?= &lt;jofd...</td>\n",
              "      <td>=?UTF-8?B?VGhlcmXigJlzIHN0aWxsIHRpbWUgdG8gZ2V0...</td>\n",
              "      <td>=?UTF-8?Q?Caixa_de_entrada,Categoria:_promo=C3...</td>\n",
              "    </tr>\n",
              "  </tbody>\n",
              "</table>\n",
              "</div>"
            ],
            "text/plain": [
              "                       date  ...                                             labels\n",
              "0 2021-05-07 12:28:27+00:00  ...  =?UTF-8?Q?Caixa_de_entrada,Importante,A?=\\r\\n ...\n",
              "1 2021-05-03 12:27:21+00:00  ...  =?UTF-8?Q?Caixa_de_entrada,Importante,A?=\\r\\n ...\n",
              "2 2021-05-10 21:10:44+00:00  ...  =?UTF-8?Q?Caixa_de_entrada,Categoria:_redes_so...\n",
              "3 2021-05-05 16:46:23+00:00  ...  =?UTF-8?Q?Caixa_de_entrada,Importante,A?=\\r\\n ...\n",
              "4 2021-05-03 22:30:10+00:00  ...  =?UTF-8?Q?Caixa_de_entrada,Categoria:_promo=C3...\n",
              "\n",
              "[5 rows x 5 columns]"
            ]
          },
          "metadata": {
            "tags": []
          },
          "execution_count": 11
        }
      ]
    },
    {
      "cell_type": "markdown",
      "metadata": {
        "id": "l3uVaiLmWHWY"
      },
      "source": [
        "Excelente! Já temos nossos dados no tipo que precisamos. Entretanto, ainda existe uma transformação que precisa ser feita. \n",
        "\n",
        "Precisamos que a informação de *time zone* esteja condizente com a Time Zone que nos encontramos. Para isso, aplicaremos uma função *lambda* para aplicar às entradas o método timezone da biblioteca `pytz` para que possamos ter a informação correta de *time zone*."
      ]
    },
    {
      "cell_type": "markdown",
      "metadata": {
        "id": "rPBJtaYhzWyc"
      },
      "source": [
        "- Como a função que usamos para colocar no horário de São Paulo não aceitam entradas vazias, precisamos fazer a limpeza antes.\n",
        "\n",
        "- Abaixo, ao verificamos a presença de dados ausentes. Como a quantidade é pequena, vamos excluir essas linhas."
      ]
    },
    {
      "cell_type": "code",
      "metadata": {
        "colab": {
          "base_uri": "https://localhost:8080/"
        },
        "id": "291IWFo0yt2Y",
        "outputId": "f4e6c33d-c3b4-45cc-cfa1-a79fbeac68a4"
      },
      "source": [
        "# verificando entradas vazias\n",
        "df.isnull().sum()"
      ],
      "execution_count": 12,
      "outputs": [
        {
          "output_type": "execute_result",
          "data": {
            "text/plain": [
              "date       102\n",
              "from         0\n",
              "to         105\n",
              "subject    101\n",
              "labels       0\n",
              "dtype: int64"
            ]
          },
          "metadata": {
            "tags": []
          },
          "execution_count": 12
        }
      ]
    },
    {
      "cell_type": "code",
      "metadata": {
        "id": "NDNvqiGRyx7B"
      },
      "source": [
        "# excluindo as linhas\n",
        "df.dropna(how='any', inplace=True)"
      ],
      "execution_count": 13,
      "outputs": []
    },
    {
      "cell_type": "code",
      "metadata": {
        "colab": {
          "base_uri": "https://localhost:8080/"
        },
        "id": "xszcrx9ny4XJ",
        "outputId": "5219bf10-1b98-4d44-ffa0-aa5b4bbd81b6"
      },
      "source": [
        "# verificando novamente\n",
        "df.isnull().sum()"
      ],
      "execution_count": 14,
      "outputs": [
        {
          "output_type": "execute_result",
          "data": {
            "text/plain": [
              "date       0\n",
              "from       0\n",
              "to         0\n",
              "subject    0\n",
              "labels     0\n",
              "dtype: int64"
            ]
          },
          "metadata": {
            "tags": []
          },
          "execution_count": 14
        }
      ]
    },
    {
      "cell_type": "code",
      "metadata": {
        "id": "mo_WDtS36K0T"
      },
      "source": [
        "# transformando time zone\n",
        "df['date'] = df['date'].apply(lambda x: x.astimezone(pytz.timezone('America/Sao_Paulo')))"
      ],
      "execution_count": 15,
      "outputs": []
    },
    {
      "cell_type": "code",
      "metadata": {
        "id": "siOjmmul6k0l",
        "colab": {
          "base_uri": "https://localhost:8080/",
          "height": 479
        },
        "outputId": "ddd95c22-07ae-4b81-b42c-b975cdc09e0d"
      },
      "source": [
        "# verificando o resultado\n",
        "df.head()"
      ],
      "execution_count": 16,
      "outputs": [
        {
          "output_type": "execute_result",
          "data": {
            "text/html": [
              "<div>\n",
              "<style scoped>\n",
              "    .dataframe tbody tr th:only-of-type {\n",
              "        vertical-align: middle;\n",
              "    }\n",
              "\n",
              "    .dataframe tbody tr th {\n",
              "        vertical-align: top;\n",
              "    }\n",
              "\n",
              "    .dataframe thead th {\n",
              "        text-align: right;\n",
              "    }\n",
              "</style>\n",
              "<table border=\"1\" class=\"dataframe\">\n",
              "  <thead>\n",
              "    <tr style=\"text-align: right;\">\n",
              "      <th></th>\n",
              "      <th>date</th>\n",
              "      <th>from</th>\n",
              "      <th>to</th>\n",
              "      <th>subject</th>\n",
              "      <th>labels</th>\n",
              "    </tr>\n",
              "  </thead>\n",
              "  <tbody>\n",
              "    <tr>\n",
              "      <th>0</th>\n",
              "      <td>2021-05-07 09:28:27-03:00</td>\n",
              "      <td>Suno Research &lt;suno@suno.com.br&gt;</td>\n",
              "      <td>jofdorneles@gmail.com</td>\n",
              "      <td>Suno Call: Por que a complexidade nos atrai?</td>\n",
              "      <td>=?UTF-8?Q?Caixa_de_entrada,Importante,A?=\\r\\n ...</td>\n",
              "    </tr>\n",
              "    <tr>\n",
              "      <th>1</th>\n",
              "      <td>2021-05-03 09:27:21-03:00</td>\n",
              "      <td>\"Felipe Santana\" &lt;contato@minerandodados.com.br&gt;</td>\n",
              "      <td>=?utf-8?Q?Jo=C3=A3o_Tournier?=\\r\\n &lt;jofdornele...</td>\n",
              "      <td>Analisando dados do mercado financeiro com Python</td>\n",
              "      <td>=?UTF-8?Q?Caixa_de_entrada,Importante,A?=\\r\\n ...</td>\n",
              "    </tr>\n",
              "    <tr>\n",
              "      <th>2</th>\n",
              "      <td>2021-05-10 18:10:44-03:00</td>\n",
              "      <td>LinkedIn &lt;jobs-listings@linkedin.com&gt;</td>\n",
              "      <td>=?UTF-8?Q?Jo=C3=A3o_Felipe_Dorneles_Tournier?=...</td>\n",
              "      <td>=?UTF-8?Q?Exact_Sales_est=C3=A1_procurando:?=\\...</td>\n",
              "      <td>=?UTF-8?Q?Caixa_de_entrada,Categoria:_redes_so...</td>\n",
              "    </tr>\n",
              "    <tr>\n",
              "      <th>3</th>\n",
              "      <td>2021-05-05 13:46:23-03:00</td>\n",
              "      <td>Inter &lt;no-reply@bancointer.com.br&gt;</td>\n",
              "      <td>jofdorneles@gmail.com</td>\n",
              "      <td>Recebemos o pagamento da sua fatura</td>\n",
              "      <td>=?UTF-8?Q?Caixa_de_entrada,Importante,A?=\\r\\n ...</td>\n",
              "    </tr>\n",
              "    <tr>\n",
              "      <th>4</th>\n",
              "      <td>2021-05-03 19:30:10-03:00</td>\n",
              "      <td>\"Udacity\" &lt;support@udacity.com&gt;</td>\n",
              "      <td>=?UTF-8?B?Sm/Do28gRmVsaXBlIERvcm5lbGVz?= &lt;jofd...</td>\n",
              "      <td>=?UTF-8?B?VGhlcmXigJlzIHN0aWxsIHRpbWUgdG8gZ2V0...</td>\n",
              "      <td>=?UTF-8?Q?Caixa_de_entrada,Categoria:_promo=C3...</td>\n",
              "    </tr>\n",
              "  </tbody>\n",
              "</table>\n",
              "</div>"
            ],
            "text/plain": [
              "                       date  ...                                             labels\n",
              "0 2021-05-07 09:28:27-03:00  ...  =?UTF-8?Q?Caixa_de_entrada,Importante,A?=\\r\\n ...\n",
              "1 2021-05-03 09:27:21-03:00  ...  =?UTF-8?Q?Caixa_de_entrada,Importante,A?=\\r\\n ...\n",
              "2 2021-05-10 18:10:44-03:00  ...  =?UTF-8?Q?Caixa_de_entrada,Categoria:_redes_so...\n",
              "3 2021-05-05 13:46:23-03:00  ...  =?UTF-8?Q?Caixa_de_entrada,Importante,A?=\\r\\n ...\n",
              "4 2021-05-03 19:30:10-03:00  ...  =?UTF-8?Q?Caixa_de_entrada,Categoria:_promo=C3...\n",
              "\n",
              "[5 rows x 5 columns]"
            ]
          },
          "metadata": {
            "tags": []
          },
          "execution_count": 16
        }
      ]
    },
    {
      "cell_type": "markdown",
      "metadata": {
        "id": "z47JNpuGXBbU"
      },
      "source": [
        "## Limpeza de Strings\n",
        "\n",
        "Ao verificar os dados acima, conseguimos perceber que temos algumas entradas bastante confusas, onde o entendimento do que, de fato, é informação relevante fica comprometido.\n",
        "\n",
        "<center><img width=\"50%\" src=\"https://image.freepik.com/free-photo/housekeeping-concept-with-hand-holding-cloth_23-2147699396.jpg\"></center>\n",
        "\n",
        "Por isso, é importante que façamos uma limpeza dessas entradas, utilizando as técnicas de manipulação de strings que aprendemos nos módulos anteriores. "
      ]
    },
    {
      "cell_type": "markdown",
      "metadata": {
        "id": "idwufgc8Z8EH"
      },
      "source": [
        "A primeira coisa que vamos fazer é limpar os e-mails.\n",
        "\n",
        "Para isso, vamos criar uma função para retirar tudo aquilo que não faz parte do endereço de e-mail, e aplicar a mesma nas colunas `to` e `from`."
      ]
    },
    {
      "cell_type": "code",
      "metadata": {
        "colab": {
          "base_uri": "https://localhost:8080/"
        },
        "id": "GxzmxVxTAg-n",
        "outputId": "782781ce-6934-41ae-deaa-b1718eb32630"
      },
      "source": [
        "df.dtypes"
      ],
      "execution_count": 17,
      "outputs": [
        {
          "output_type": "execute_result",
          "data": {
            "text/plain": [
              "date       datetime64[ns, America/Sao_Paulo]\n",
              "from                                  object\n",
              "to                                    object\n",
              "subject                               object\n",
              "labels                                object\n",
              "dtype: object"
            ]
          },
          "metadata": {
            "tags": []
          },
          "execution_count": 17
        }
      ]
    },
    {
      "cell_type": "code",
      "metadata": {
        "id": "i5r-n5UqN-A-"
      },
      "source": [
        "# criando a função\n",
        "def extrair_email(string_email):\n",
        "    email = re.findall(r'<(.+?)>', string_email)\n",
        "    if email:\n",
        "        return email[0]\n",
        "    else:\n",
        "        return string_email\n"
      ],
      "execution_count": 18,
      "outputs": []
    },
    {
      "cell_type": "code",
      "metadata": {
        "id": "k8ias8EDrU48"
      },
      "source": [
        "# aplicando a função\n",
        "df['from'] = df['from'].apply(extrair_email)"
      ],
      "execution_count": 19,
      "outputs": []
    },
    {
      "cell_type": "code",
      "metadata": {
        "id": "Oskp4RXSs-qj",
        "colab": {
          "base_uri": "https://localhost:8080/",
          "height": 479
        },
        "outputId": "f2eb2bff-7c13-4642-d5cc-abd7b63b842e"
      },
      "source": [
        "# verificando os resultados\n",
        "df.head()"
      ],
      "execution_count": 20,
      "outputs": [
        {
          "output_type": "execute_result",
          "data": {
            "text/html": [
              "<div>\n",
              "<style scoped>\n",
              "    .dataframe tbody tr th:only-of-type {\n",
              "        vertical-align: middle;\n",
              "    }\n",
              "\n",
              "    .dataframe tbody tr th {\n",
              "        vertical-align: top;\n",
              "    }\n",
              "\n",
              "    .dataframe thead th {\n",
              "        text-align: right;\n",
              "    }\n",
              "</style>\n",
              "<table border=\"1\" class=\"dataframe\">\n",
              "  <thead>\n",
              "    <tr style=\"text-align: right;\">\n",
              "      <th></th>\n",
              "      <th>date</th>\n",
              "      <th>from</th>\n",
              "      <th>to</th>\n",
              "      <th>subject</th>\n",
              "      <th>labels</th>\n",
              "    </tr>\n",
              "  </thead>\n",
              "  <tbody>\n",
              "    <tr>\n",
              "      <th>0</th>\n",
              "      <td>2021-05-07 09:28:27-03:00</td>\n",
              "      <td>suno@suno.com.br</td>\n",
              "      <td>jofdorneles@gmail.com</td>\n",
              "      <td>Suno Call: Por que a complexidade nos atrai?</td>\n",
              "      <td>=?UTF-8?Q?Caixa_de_entrada,Importante,A?=\\r\\n ...</td>\n",
              "    </tr>\n",
              "    <tr>\n",
              "      <th>1</th>\n",
              "      <td>2021-05-03 09:27:21-03:00</td>\n",
              "      <td>contato@minerandodados.com.br</td>\n",
              "      <td>=?utf-8?Q?Jo=C3=A3o_Tournier?=\\r\\n &lt;jofdornele...</td>\n",
              "      <td>Analisando dados do mercado financeiro com Python</td>\n",
              "      <td>=?UTF-8?Q?Caixa_de_entrada,Importante,A?=\\r\\n ...</td>\n",
              "    </tr>\n",
              "    <tr>\n",
              "      <th>2</th>\n",
              "      <td>2021-05-10 18:10:44-03:00</td>\n",
              "      <td>jobs-listings@linkedin.com</td>\n",
              "      <td>=?UTF-8?Q?Jo=C3=A3o_Felipe_Dorneles_Tournier?=...</td>\n",
              "      <td>=?UTF-8?Q?Exact_Sales_est=C3=A1_procurando:?=\\...</td>\n",
              "      <td>=?UTF-8?Q?Caixa_de_entrada,Categoria:_redes_so...</td>\n",
              "    </tr>\n",
              "    <tr>\n",
              "      <th>3</th>\n",
              "      <td>2021-05-05 13:46:23-03:00</td>\n",
              "      <td>no-reply@bancointer.com.br</td>\n",
              "      <td>jofdorneles@gmail.com</td>\n",
              "      <td>Recebemos o pagamento da sua fatura</td>\n",
              "      <td>=?UTF-8?Q?Caixa_de_entrada,Importante,A?=\\r\\n ...</td>\n",
              "    </tr>\n",
              "    <tr>\n",
              "      <th>4</th>\n",
              "      <td>2021-05-03 19:30:10-03:00</td>\n",
              "      <td>support@udacity.com</td>\n",
              "      <td>=?UTF-8?B?Sm/Do28gRmVsaXBlIERvcm5lbGVz?= &lt;jofd...</td>\n",
              "      <td>=?UTF-8?B?VGhlcmXigJlzIHN0aWxsIHRpbWUgdG8gZ2V0...</td>\n",
              "      <td>=?UTF-8?Q?Caixa_de_entrada,Categoria:_promo=C3...</td>\n",
              "    </tr>\n",
              "  </tbody>\n",
              "</table>\n",
              "</div>"
            ],
            "text/plain": [
              "                       date  ...                                             labels\n",
              "0 2021-05-07 09:28:27-03:00  ...  =?UTF-8?Q?Caixa_de_entrada,Importante,A?=\\r\\n ...\n",
              "1 2021-05-03 09:27:21-03:00  ...  =?UTF-8?Q?Caixa_de_entrada,Importante,A?=\\r\\n ...\n",
              "2 2021-05-10 18:10:44-03:00  ...  =?UTF-8?Q?Caixa_de_entrada,Categoria:_redes_so...\n",
              "3 2021-05-05 13:46:23-03:00  ...  =?UTF-8?Q?Caixa_de_entrada,Importante,A?=\\r\\n ...\n",
              "4 2021-05-03 19:30:10-03:00  ...  =?UTF-8?Q?Caixa_de_entrada,Categoria:_promo=C3...\n",
              "\n",
              "[5 rows x 5 columns]"
            ]
          },
          "metadata": {
            "tags": []
          },
          "execution_count": 20
        }
      ]
    },
    {
      "cell_type": "markdown",
      "metadata": {
        "id": "mPNcsuv9abAy"
      },
      "source": [
        "Agora, iremos fazer um processo parecido para limpar a coluna `label`.\n",
        "\n",
        "Criaremos uma função que retire as informações desnecessárias, divida os itens por vírgula, e retorne apenas o primeiro item, que é o item de interesse para nós."
      ]
    },
    {
      "cell_type": "code",
      "metadata": {
        "id": "DDj4ib5Et4Sf"
      },
      "source": [
        "# criando a função\n",
        "def extrair_label(string_labels):\n",
        "    return string_labels.replace(\"=?UTF-8?Q?\", \"\").split(\",\")[0]\n",
        "    "
      ],
      "execution_count": 21,
      "outputs": []
    },
    {
      "cell_type": "code",
      "metadata": {
        "id": "kyNnHt380l1o"
      },
      "source": [
        "# aplicando a função\n",
        "df[\"labels\"] = df[\"labels\"].apply(extrair_label)"
      ],
      "execution_count": 22,
      "outputs": []
    },
    {
      "cell_type": "code",
      "metadata": {
        "id": "nSRzU8Mf2yTg",
        "colab": {
          "base_uri": "https://localhost:8080/",
          "height": 479
        },
        "outputId": "15f46c39-490a-4c4f-bf4b-96944c6632bb"
      },
      "source": [
        "# verificando os resultados\n",
        "df.head()"
      ],
      "execution_count": 23,
      "outputs": [
        {
          "output_type": "execute_result",
          "data": {
            "text/html": [
              "<div>\n",
              "<style scoped>\n",
              "    .dataframe tbody tr th:only-of-type {\n",
              "        vertical-align: middle;\n",
              "    }\n",
              "\n",
              "    .dataframe tbody tr th {\n",
              "        vertical-align: top;\n",
              "    }\n",
              "\n",
              "    .dataframe thead th {\n",
              "        text-align: right;\n",
              "    }\n",
              "</style>\n",
              "<table border=\"1\" class=\"dataframe\">\n",
              "  <thead>\n",
              "    <tr style=\"text-align: right;\">\n",
              "      <th></th>\n",
              "      <th>date</th>\n",
              "      <th>from</th>\n",
              "      <th>to</th>\n",
              "      <th>subject</th>\n",
              "      <th>labels</th>\n",
              "    </tr>\n",
              "  </thead>\n",
              "  <tbody>\n",
              "    <tr>\n",
              "      <th>0</th>\n",
              "      <td>2021-05-07 09:28:27-03:00</td>\n",
              "      <td>suno@suno.com.br</td>\n",
              "      <td>jofdorneles@gmail.com</td>\n",
              "      <td>Suno Call: Por que a complexidade nos atrai?</td>\n",
              "      <td>Caixa_de_entrada</td>\n",
              "    </tr>\n",
              "    <tr>\n",
              "      <th>1</th>\n",
              "      <td>2021-05-03 09:27:21-03:00</td>\n",
              "      <td>contato@minerandodados.com.br</td>\n",
              "      <td>=?utf-8?Q?Jo=C3=A3o_Tournier?=\\r\\n &lt;jofdornele...</td>\n",
              "      <td>Analisando dados do mercado financeiro com Python</td>\n",
              "      <td>Caixa_de_entrada</td>\n",
              "    </tr>\n",
              "    <tr>\n",
              "      <th>2</th>\n",
              "      <td>2021-05-10 18:10:44-03:00</td>\n",
              "      <td>jobs-listings@linkedin.com</td>\n",
              "      <td>=?UTF-8?Q?Jo=C3=A3o_Felipe_Dorneles_Tournier?=...</td>\n",
              "      <td>=?UTF-8?Q?Exact_Sales_est=C3=A1_procurando:?=\\...</td>\n",
              "      <td>Caixa_de_entrada</td>\n",
              "    </tr>\n",
              "    <tr>\n",
              "      <th>3</th>\n",
              "      <td>2021-05-05 13:46:23-03:00</td>\n",
              "      <td>no-reply@bancointer.com.br</td>\n",
              "      <td>jofdorneles@gmail.com</td>\n",
              "      <td>Recebemos o pagamento da sua fatura</td>\n",
              "      <td>Caixa_de_entrada</td>\n",
              "    </tr>\n",
              "    <tr>\n",
              "      <th>4</th>\n",
              "      <td>2021-05-03 19:30:10-03:00</td>\n",
              "      <td>support@udacity.com</td>\n",
              "      <td>=?UTF-8?B?Sm/Do28gRmVsaXBlIERvcm5lbGVz?= &lt;jofd...</td>\n",
              "      <td>=?UTF-8?B?VGhlcmXigJlzIHN0aWxsIHRpbWUgdG8gZ2V0...</td>\n",
              "      <td>Caixa_de_entrada</td>\n",
              "    </tr>\n",
              "  </tbody>\n",
              "</table>\n",
              "</div>"
            ],
            "text/plain": [
              "                       date  ...            labels\n",
              "0 2021-05-07 09:28:27-03:00  ...  Caixa_de_entrada\n",
              "1 2021-05-03 09:27:21-03:00  ...  Caixa_de_entrada\n",
              "2 2021-05-10 18:10:44-03:00  ...  Caixa_de_entrada\n",
              "3 2021-05-05 13:46:23-03:00  ...  Caixa_de_entrada\n",
              "4 2021-05-03 19:30:10-03:00  ...  Caixa_de_entrada\n",
              "\n",
              "[5 rows x 5 columns]"
            ]
          },
          "metadata": {
            "tags": []
          },
          "execution_count": 23
        }
      ]
    },
    {
      "cell_type": "markdown",
      "metadata": {
        "id": "d25m8g7jb80F"
      },
      "source": [
        "## Análise Exploratória\n",
        "\n",
        "Agora que nossos dados foram adquiridos, carregados e limpos, eles estão prontos para serem analisados!\n",
        "\n",
        "<center><img width=\"50%\" src=\"https://image.freepik.com/free-photo/business-presentation-laptop-screen_53876-13516.jpg\"></center>\n",
        "\n",
        "A parte que mais demanda nosso tempo e atenção é a Análise Exploratória, pois é aqui que vamos transformar dados em informação, encontrar isights que farão a diferença em nosso projetos."
      ]
    },
    {
      "cell_type": "markdown",
      "metadata": {
        "id": "ki9j0fvvcxYk"
      },
      "source": [
        "A primeira análise que faremos será em relação aos endereços que nos enviam e-mail. Qual foi o endereço que mais me enviou e-mails?"
      ]
    },
    {
      "cell_type": "code",
      "metadata": {
        "id": "g5IJ7dC75jSO",
        "colab": {
          "base_uri": "https://localhost:8080/"
        },
        "outputId": "6a05e59d-b8c8-4a65-a495-c92f8947c895"
      },
      "source": [
        "# verificando endereços que mais enviaram e-mail para minha caixa entrada\n",
        "df[df[\"labels\"] == \"Caixa_de_entrada\"][\"from\"].value_counts()[:5]"
      ],
      "execution_count": 24,
      "outputs": [
        {
          "output_type": "execute_result",
          "data": {
            "text/plain": [
              "naoresponda@peixeurbano.com.br    304\n",
              "start@engage.canva.com            283\n",
              "noreply@youtube.com               272\n",
              "todomundo@nubank.com.br           236\n",
              "invitations@linkedin.com          229\n",
              "Name: from, dtype: int64"
            ]
          },
          "metadata": {
            "tags": []
          },
          "execution_count": 24
        }
      ]
    },
    {
      "cell_type": "markdown",
      "metadata": {
        "id": "OYaJVmYfdDp8"
      },
      "source": [
        "Outro insight interessante é descobrir que dia da semana a recebemos mais e-mail.\n",
        "\n",
        "Usando Python e Pandas, vamos criar uma nova coluna, que indica em que dia da semana cada e-mail foi enviado."
      ]
    },
    {
      "cell_type": "code",
      "metadata": {
        "id": "dJLaB0EiYsFA",
        "colab": {
          "base_uri": "https://localhost:8080/",
          "height": 479
        },
        "outputId": "be57f7cc-9f7e-49f3-c9a1-5f92c9d8ecc0"
      },
      "source": [
        "df.head()"
      ],
      "execution_count": 25,
      "outputs": [
        {
          "output_type": "execute_result",
          "data": {
            "text/html": [
              "<div>\n",
              "<style scoped>\n",
              "    .dataframe tbody tr th:only-of-type {\n",
              "        vertical-align: middle;\n",
              "    }\n",
              "\n",
              "    .dataframe tbody tr th {\n",
              "        vertical-align: top;\n",
              "    }\n",
              "\n",
              "    .dataframe thead th {\n",
              "        text-align: right;\n",
              "    }\n",
              "</style>\n",
              "<table border=\"1\" class=\"dataframe\">\n",
              "  <thead>\n",
              "    <tr style=\"text-align: right;\">\n",
              "      <th></th>\n",
              "      <th>date</th>\n",
              "      <th>from</th>\n",
              "      <th>to</th>\n",
              "      <th>subject</th>\n",
              "      <th>labels</th>\n",
              "    </tr>\n",
              "  </thead>\n",
              "  <tbody>\n",
              "    <tr>\n",
              "      <th>0</th>\n",
              "      <td>2021-05-07 09:28:27-03:00</td>\n",
              "      <td>suno@suno.com.br</td>\n",
              "      <td>jofdorneles@gmail.com</td>\n",
              "      <td>Suno Call: Por que a complexidade nos atrai?</td>\n",
              "      <td>Caixa_de_entrada</td>\n",
              "    </tr>\n",
              "    <tr>\n",
              "      <th>1</th>\n",
              "      <td>2021-05-03 09:27:21-03:00</td>\n",
              "      <td>contato@minerandodados.com.br</td>\n",
              "      <td>=?utf-8?Q?Jo=C3=A3o_Tournier?=\\r\\n &lt;jofdornele...</td>\n",
              "      <td>Analisando dados do mercado financeiro com Python</td>\n",
              "      <td>Caixa_de_entrada</td>\n",
              "    </tr>\n",
              "    <tr>\n",
              "      <th>2</th>\n",
              "      <td>2021-05-10 18:10:44-03:00</td>\n",
              "      <td>jobs-listings@linkedin.com</td>\n",
              "      <td>=?UTF-8?Q?Jo=C3=A3o_Felipe_Dorneles_Tournier?=...</td>\n",
              "      <td>=?UTF-8?Q?Exact_Sales_est=C3=A1_procurando:?=\\...</td>\n",
              "      <td>Caixa_de_entrada</td>\n",
              "    </tr>\n",
              "    <tr>\n",
              "      <th>3</th>\n",
              "      <td>2021-05-05 13:46:23-03:00</td>\n",
              "      <td>no-reply@bancointer.com.br</td>\n",
              "      <td>jofdorneles@gmail.com</td>\n",
              "      <td>Recebemos o pagamento da sua fatura</td>\n",
              "      <td>Caixa_de_entrada</td>\n",
              "    </tr>\n",
              "    <tr>\n",
              "      <th>4</th>\n",
              "      <td>2021-05-03 19:30:10-03:00</td>\n",
              "      <td>support@udacity.com</td>\n",
              "      <td>=?UTF-8?B?Sm/Do28gRmVsaXBlIERvcm5lbGVz?= &lt;jofd...</td>\n",
              "      <td>=?UTF-8?B?VGhlcmXigJlzIHN0aWxsIHRpbWUgdG8gZ2V0...</td>\n",
              "      <td>Caixa_de_entrada</td>\n",
              "    </tr>\n",
              "  </tbody>\n",
              "</table>\n",
              "</div>"
            ],
            "text/plain": [
              "                       date  ...            labels\n",
              "0 2021-05-07 09:28:27-03:00  ...  Caixa_de_entrada\n",
              "1 2021-05-03 09:27:21-03:00  ...  Caixa_de_entrada\n",
              "2 2021-05-10 18:10:44-03:00  ...  Caixa_de_entrada\n",
              "3 2021-05-05 13:46:23-03:00  ...  Caixa_de_entrada\n",
              "4 2021-05-03 19:30:10-03:00  ...  Caixa_de_entrada\n",
              "\n",
              "[5 rows x 5 columns]"
            ]
          },
          "metadata": {
            "tags": []
          },
          "execution_count": 25
        }
      ]
    },
    {
      "cell_type": "code",
      "metadata": {
        "id": "KOKumOgm7GfX"
      },
      "source": [
        "# criando uma variávei de dia da semana\n",
        "df[\"weekday\"] = df[\"date\"].dt.weekday"
      ],
      "execution_count": 26,
      "outputs": []
    },
    {
      "cell_type": "code",
      "metadata": {
        "id": "zqwt4D_j9EBK",
        "colab": {
          "base_uri": "https://localhost:8080/",
          "height": 479
        },
        "outputId": "1de0dc0d-6c7d-444d-bded-8781bb431153"
      },
      "source": [
        "# verificando o resultado\n",
        "df.head()"
      ],
      "execution_count": 27,
      "outputs": [
        {
          "output_type": "execute_result",
          "data": {
            "text/html": [
              "<div>\n",
              "<style scoped>\n",
              "    .dataframe tbody tr th:only-of-type {\n",
              "        vertical-align: middle;\n",
              "    }\n",
              "\n",
              "    .dataframe tbody tr th {\n",
              "        vertical-align: top;\n",
              "    }\n",
              "\n",
              "    .dataframe thead th {\n",
              "        text-align: right;\n",
              "    }\n",
              "</style>\n",
              "<table border=\"1\" class=\"dataframe\">\n",
              "  <thead>\n",
              "    <tr style=\"text-align: right;\">\n",
              "      <th></th>\n",
              "      <th>date</th>\n",
              "      <th>from</th>\n",
              "      <th>to</th>\n",
              "      <th>subject</th>\n",
              "      <th>labels</th>\n",
              "      <th>weekday</th>\n",
              "    </tr>\n",
              "  </thead>\n",
              "  <tbody>\n",
              "    <tr>\n",
              "      <th>0</th>\n",
              "      <td>2021-05-07 09:28:27-03:00</td>\n",
              "      <td>suno@suno.com.br</td>\n",
              "      <td>jofdorneles@gmail.com</td>\n",
              "      <td>Suno Call: Por que a complexidade nos atrai?</td>\n",
              "      <td>Caixa_de_entrada</td>\n",
              "      <td>4</td>\n",
              "    </tr>\n",
              "    <tr>\n",
              "      <th>1</th>\n",
              "      <td>2021-05-03 09:27:21-03:00</td>\n",
              "      <td>contato@minerandodados.com.br</td>\n",
              "      <td>=?utf-8?Q?Jo=C3=A3o_Tournier?=\\r\\n &lt;jofdornele...</td>\n",
              "      <td>Analisando dados do mercado financeiro com Python</td>\n",
              "      <td>Caixa_de_entrada</td>\n",
              "      <td>0</td>\n",
              "    </tr>\n",
              "    <tr>\n",
              "      <th>2</th>\n",
              "      <td>2021-05-10 18:10:44-03:00</td>\n",
              "      <td>jobs-listings@linkedin.com</td>\n",
              "      <td>=?UTF-8?Q?Jo=C3=A3o_Felipe_Dorneles_Tournier?=...</td>\n",
              "      <td>=?UTF-8?Q?Exact_Sales_est=C3=A1_procurando:?=\\...</td>\n",
              "      <td>Caixa_de_entrada</td>\n",
              "      <td>0</td>\n",
              "    </tr>\n",
              "    <tr>\n",
              "      <th>3</th>\n",
              "      <td>2021-05-05 13:46:23-03:00</td>\n",
              "      <td>no-reply@bancointer.com.br</td>\n",
              "      <td>jofdorneles@gmail.com</td>\n",
              "      <td>Recebemos o pagamento da sua fatura</td>\n",
              "      <td>Caixa_de_entrada</td>\n",
              "      <td>2</td>\n",
              "    </tr>\n",
              "    <tr>\n",
              "      <th>4</th>\n",
              "      <td>2021-05-03 19:30:10-03:00</td>\n",
              "      <td>support@udacity.com</td>\n",
              "      <td>=?UTF-8?B?Sm/Do28gRmVsaXBlIERvcm5lbGVz?= &lt;jofd...</td>\n",
              "      <td>=?UTF-8?B?VGhlcmXigJlzIHN0aWxsIHRpbWUgdG8gZ2V0...</td>\n",
              "      <td>Caixa_de_entrada</td>\n",
              "      <td>0</td>\n",
              "    </tr>\n",
              "  </tbody>\n",
              "</table>\n",
              "</div>"
            ],
            "text/plain": [
              "                       date  ... weekday\n",
              "0 2021-05-07 09:28:27-03:00  ...       4\n",
              "1 2021-05-03 09:27:21-03:00  ...       0\n",
              "2 2021-05-10 18:10:44-03:00  ...       0\n",
              "3 2021-05-05 13:46:23-03:00  ...       2\n",
              "4 2021-05-03 19:30:10-03:00  ...       0\n",
              "\n",
              "[5 rows x 6 columns]"
            ]
          },
          "metadata": {
            "tags": []
          },
          "execution_count": 27
        }
      ]
    },
    {
      "cell_type": "markdown",
      "metadata": {
        "id": "XuhVm8s-dW44"
      },
      "source": [
        "Com a coluna criada, vamos transformar esses números em uma informação mais fácil de digerir e interpretar.\n",
        "\n",
        "A transformação que fizemos retorna Segunda-Feira como o primeiro dia, portanto, o dia associado ao valor `0`, é Segunda-Feira, e assim sucessivamente.\n",
        "\n",
        "Vamos criar um dicionário, onde associaremos para as chaves, valores em formato de string para os dias da semana, e transformar nossa coluna com esse dicionário."
      ]
    },
    {
      "cell_type": "code",
      "metadata": {
        "id": "E_rU5kHs9GhH"
      },
      "source": [
        "# criando dicionário\n",
        "dias_semana = {0:\"Segunda\", 1:\"Terça\", 2:\"Quarta\",3:\"Quinta\", 4:\"Sexta\", 5:\"Sábado\", 6:\"Domingo\"}\n",
        "\n",
        "# transformando a coluna\n",
        "df[\"weekday\"] = df[\"weekday\"].replace(dias_semana)"
      ],
      "execution_count": 28,
      "outputs": []
    },
    {
      "cell_type": "code",
      "metadata": {
        "id": "oe0ZXoj9_DZ0",
        "colab": {
          "base_uri": "https://localhost:8080/",
          "height": 479
        },
        "outputId": "de5b8574-068a-4461-abed-ff06e6d440e3"
      },
      "source": [
        "# verificando o resultado\n",
        "df.head()"
      ],
      "execution_count": 29,
      "outputs": [
        {
          "output_type": "execute_result",
          "data": {
            "text/html": [
              "<div>\n",
              "<style scoped>\n",
              "    .dataframe tbody tr th:only-of-type {\n",
              "        vertical-align: middle;\n",
              "    }\n",
              "\n",
              "    .dataframe tbody tr th {\n",
              "        vertical-align: top;\n",
              "    }\n",
              "\n",
              "    .dataframe thead th {\n",
              "        text-align: right;\n",
              "    }\n",
              "</style>\n",
              "<table border=\"1\" class=\"dataframe\">\n",
              "  <thead>\n",
              "    <tr style=\"text-align: right;\">\n",
              "      <th></th>\n",
              "      <th>date</th>\n",
              "      <th>from</th>\n",
              "      <th>to</th>\n",
              "      <th>subject</th>\n",
              "      <th>labels</th>\n",
              "      <th>weekday</th>\n",
              "    </tr>\n",
              "  </thead>\n",
              "  <tbody>\n",
              "    <tr>\n",
              "      <th>0</th>\n",
              "      <td>2021-05-07 09:28:27-03:00</td>\n",
              "      <td>suno@suno.com.br</td>\n",
              "      <td>jofdorneles@gmail.com</td>\n",
              "      <td>Suno Call: Por que a complexidade nos atrai?</td>\n",
              "      <td>Caixa_de_entrada</td>\n",
              "      <td>Sexta</td>\n",
              "    </tr>\n",
              "    <tr>\n",
              "      <th>1</th>\n",
              "      <td>2021-05-03 09:27:21-03:00</td>\n",
              "      <td>contato@minerandodados.com.br</td>\n",
              "      <td>=?utf-8?Q?Jo=C3=A3o_Tournier?=\\r\\n &lt;jofdornele...</td>\n",
              "      <td>Analisando dados do mercado financeiro com Python</td>\n",
              "      <td>Caixa_de_entrada</td>\n",
              "      <td>Segunda</td>\n",
              "    </tr>\n",
              "    <tr>\n",
              "      <th>2</th>\n",
              "      <td>2021-05-10 18:10:44-03:00</td>\n",
              "      <td>jobs-listings@linkedin.com</td>\n",
              "      <td>=?UTF-8?Q?Jo=C3=A3o_Felipe_Dorneles_Tournier?=...</td>\n",
              "      <td>=?UTF-8?Q?Exact_Sales_est=C3=A1_procurando:?=\\...</td>\n",
              "      <td>Caixa_de_entrada</td>\n",
              "      <td>Segunda</td>\n",
              "    </tr>\n",
              "    <tr>\n",
              "      <th>3</th>\n",
              "      <td>2021-05-05 13:46:23-03:00</td>\n",
              "      <td>no-reply@bancointer.com.br</td>\n",
              "      <td>jofdorneles@gmail.com</td>\n",
              "      <td>Recebemos o pagamento da sua fatura</td>\n",
              "      <td>Caixa_de_entrada</td>\n",
              "      <td>Quarta</td>\n",
              "    </tr>\n",
              "    <tr>\n",
              "      <th>4</th>\n",
              "      <td>2021-05-03 19:30:10-03:00</td>\n",
              "      <td>support@udacity.com</td>\n",
              "      <td>=?UTF-8?B?Sm/Do28gRmVsaXBlIERvcm5lbGVz?= &lt;jofd...</td>\n",
              "      <td>=?UTF-8?B?VGhlcmXigJlzIHN0aWxsIHRpbWUgdG8gZ2V0...</td>\n",
              "      <td>Caixa_de_entrada</td>\n",
              "      <td>Segunda</td>\n",
              "    </tr>\n",
              "  </tbody>\n",
              "</table>\n",
              "</div>"
            ],
            "text/plain": [
              "                       date  ...  weekday\n",
              "0 2021-05-07 09:28:27-03:00  ...    Sexta\n",
              "1 2021-05-03 09:27:21-03:00  ...  Segunda\n",
              "2 2021-05-10 18:10:44-03:00  ...  Segunda\n",
              "3 2021-05-05 13:46:23-03:00  ...   Quarta\n",
              "4 2021-05-03 19:30:10-03:00  ...  Segunda\n",
              "\n",
              "[5 rows x 6 columns]"
            ]
          },
          "metadata": {
            "tags": []
          },
          "execution_count": 29
        }
      ]
    },
    {
      "cell_type": "markdown",
      "metadata": {
        "id": "rQVEsrdFlltI"
      },
      "source": [
        "Agora que temos todas as informações necessárias, podemos usar a biblioteca `seaborn` para plotar um `countplot` e nos mostrar em qual dia da semana recebemos mais e-mails."
      ]
    },
    {
      "cell_type": "code",
      "metadata": {
        "id": "Dc_40UHj76eC",
        "colab": {
          "base_uri": "https://localhost:8080/",
          "height": 333
        },
        "outputId": "dffdeb59-9a9b-4f93-b4cc-2320e2f3e780"
      },
      "source": [
        "# plotando o countplot\n",
        "sns.countplot(df[\"weekday\"], order=[\"Segunda\", \"Terça\", \"Quarta\", \"Quinta\", \"Sexta\", \"Sábado\", \"Domingo\"]);"
      ],
      "execution_count": 30,
      "outputs": [
        {
          "output_type": "stream",
          "text": [
            "/usr/local/lib/python3.7/dist-packages/seaborn/_decorators.py:43: FutureWarning: Pass the following variable as a keyword arg: x. From version 0.12, the only valid positional argument will be `data`, and passing other arguments without an explicit keyword will result in an error or misinterpretation.\n",
            "  FutureWarning\n"
          ],
          "name": "stderr"
        },
        {
          "output_type": "display_data",
          "data": {
            "image/png": "[encoded data removed]",
            "text/plain": [
              "<Figure size 432x288 with 1 Axes>"
            ]
          },
          "metadata": {
            "tags": [],
            "needs_background": "light"
          }
        }
      ]
    },
    {
      "cell_type": "markdown",
      "metadata": {
        "id": "XALg4Oetm614"
      },
      "source": [
        "Agora já sabemos que a **Quarta-Feira** traz um volume maior de e-mails do que qualquer outro dia da semana. Mas qual será o horário que mais recebemos e-mails?\n",
        "\n",
        "Podemos fazer um processo parecido com o que fizemos de dias da semana para criar uma variável que nos indica a hora em que o e-mail foi recebido.\n",
        "\n",
        "Assim, conseguimos fazer uma análise sememlhante à que fizemos sobre os dias."
      ]
    },
    {
      "cell_type": "code",
      "metadata": {
        "id": "3N1XDDTs9DCQ"
      },
      "source": [
        "# coletando as horas\n",
        "df[\"hora\"] = df[\"date\"].dt.hour"
      ],
      "execution_count": 31,
      "outputs": []
    },
    {
      "cell_type": "code",
      "metadata": {
        "id": "20mCExyz77IA",
        "colab": {
          "base_uri": "https://localhost:8080/",
          "height": 479
        },
        "outputId": "0f195f3f-c6ff-4b23-d43d-b176e4b65ca0"
      },
      "source": [
        "# verificando o resultado\n",
        "df.head()"
      ],
      "execution_count": 32,
      "outputs": [
        {
          "output_type": "execute_result",
          "data": {
            "text/html": [
              "<div>\n",
              "<style scoped>\n",
              "    .dataframe tbody tr th:only-of-type {\n",
              "        vertical-align: middle;\n",
              "    }\n",
              "\n",
              "    .dataframe tbody tr th {\n",
              "        vertical-align: top;\n",
              "    }\n",
              "\n",
              "    .dataframe thead th {\n",
              "        text-align: right;\n",
              "    }\n",
              "</style>\n",
              "<table border=\"1\" class=\"dataframe\">\n",
              "  <thead>\n",
              "    <tr style=\"text-align: right;\">\n",
              "      <th></th>\n",
              "      <th>date</th>\n",
              "      <th>from</th>\n",
              "      <th>to</th>\n",
              "      <th>subject</th>\n",
              "      <th>labels</th>\n",
              "      <th>weekday</th>\n",
              "      <th>hora</th>\n",
              "    </tr>\n",
              "  </thead>\n",
              "  <tbody>\n",
              "    <tr>\n",
              "      <th>0</th>\n",
              "      <td>2021-05-07 09:28:27-03:00</td>\n",
              "      <td>suno@suno.com.br</td>\n",
              "      <td>jofdorneles@gmail.com</td>\n",
              "      <td>Suno Call: Por que a complexidade nos atrai?</td>\n",
              "      <td>Caixa_de_entrada</td>\n",
              "      <td>Sexta</td>\n",
              "      <td>9</td>\n",
              "    </tr>\n",
              "    <tr>\n",
              "      <th>1</th>\n",
              "      <td>2021-05-03 09:27:21-03:00</td>\n",
              "      <td>contato@minerandodados.com.br</td>\n",
              "      <td>=?utf-8?Q?Jo=C3=A3o_Tournier?=\\r\\n &lt;jofdornele...</td>\n",
              "      <td>Analisando dados do mercado financeiro com Python</td>\n",
              "      <td>Caixa_de_entrada</td>\n",
              "      <td>Segunda</td>\n",
              "      <td>9</td>\n",
              "    </tr>\n",
              "    <tr>\n",
              "      <th>2</th>\n",
              "      <td>2021-05-10 18:10:44-03:00</td>\n",
              "      <td>jobs-listings@linkedin.com</td>\n",
              "      <td>=?UTF-8?Q?Jo=C3=A3o_Felipe_Dorneles_Tournier?=...</td>\n",
              "      <td>=?UTF-8?Q?Exact_Sales_est=C3=A1_procurando:?=\\...</td>\n",
              "      <td>Caixa_de_entrada</td>\n",
              "      <td>Segunda</td>\n",
              "      <td>18</td>\n",
              "    </tr>\n",
              "    <tr>\n",
              "      <th>3</th>\n",
              "      <td>2021-05-05 13:46:23-03:00</td>\n",
              "      <td>no-reply@bancointer.com.br</td>\n",
              "      <td>jofdorneles@gmail.com</td>\n",
              "      <td>Recebemos o pagamento da sua fatura</td>\n",
              "      <td>Caixa_de_entrada</td>\n",
              "      <td>Quarta</td>\n",
              "      <td>13</td>\n",
              "    </tr>\n",
              "    <tr>\n",
              "      <th>4</th>\n",
              "      <td>2021-05-03 19:30:10-03:00</td>\n",
              "      <td>support@udacity.com</td>\n",
              "      <td>=?UTF-8?B?Sm/Do28gRmVsaXBlIERvcm5lbGVz?= &lt;jofd...</td>\n",
              "      <td>=?UTF-8?B?VGhlcmXigJlzIHN0aWxsIHRpbWUgdG8gZ2V0...</td>\n",
              "      <td>Caixa_de_entrada</td>\n",
              "      <td>Segunda</td>\n",
              "      <td>19</td>\n",
              "    </tr>\n",
              "  </tbody>\n",
              "</table>\n",
              "</div>"
            ],
            "text/plain": [
              "                       date                           from  ...  weekday hora\n",
              "0 2021-05-07 09:28:27-03:00               suno@suno.com.br  ...    Sexta    9\n",
              "1 2021-05-03 09:27:21-03:00  contato@minerandodados.com.br  ...  Segunda    9\n",
              "2 2021-05-10 18:10:44-03:00     jobs-listings@linkedin.com  ...  Segunda   18\n",
              "3 2021-05-05 13:46:23-03:00     no-reply@bancointer.com.br  ...   Quarta   13\n",
              "4 2021-05-03 19:30:10-03:00            support@udacity.com  ...  Segunda   19\n",
              "\n",
              "[5 rows x 7 columns]"
            ]
          },
          "metadata": {
            "tags": []
          },
          "execution_count": 32
        }
      ]
    },
    {
      "cell_type": "markdown",
      "metadata": {
        "id": "wa8D36RHns71"
      },
      "source": [
        "Pronto! Agora basta plotar um countplot, como fizemos anteriormente."
      ]
    },
    {
      "cell_type": "code",
      "metadata": {
        "id": "Ad_KeXwF_N4l",
        "colab": {
          "base_uri": "https://localhost:8080/",
          "height": 333
        },
        "outputId": "556fcd47-9be8-468d-b85d-f9de1db31099"
      },
      "source": [
        "# plotando o gráfico\n",
        "sns.countplot(df[\"hora\"]);"
      ],
      "execution_count": 33,
      "outputs": [
        {
          "output_type": "stream",
          "text": [
            "/usr/local/lib/python3.7/dist-packages/seaborn/_decorators.py:43: FutureWarning: Pass the following variable as a keyword arg: x. From version 0.12, the only valid positional argument will be `data`, and passing other arguments without an explicit keyword will result in an error or misinterpretation.\n",
            "  FutureWarning\n"
          ],
          "name": "stderr"
        },
        {
          "output_type": "display_data",
          "data": {
            "image/png": "[encoded data removed]",
            "text/plain": [
              "<Figure size 432x288 with 1 Axes>"
            ]
          },
          "metadata": {
            "tags": [],
            "needs_background": "light"
          }
        }
      ]
    },
    {
      "cell_type": "markdown",
      "metadata": {
        "id": "1jd0M94TW7i9"
      },
      "source": [
        "**One more thing... exportando para Excel!**\n",
        "\n"
      ]
    },
    {
      "cell_type": "code",
      "metadata": {
        "id": "3BpS2fx6XBNi"
      },
      "source": [
        "# converter para formato de data que o Excel aceita\n",
        "df['date'] = df['date'].apply(lambda a: pd.to_datetime(a).date()) "
      ],
      "execution_count": 34,
      "outputs": []
    },
    {
      "cell_type": "code",
      "metadata": {
        "id": "ei7rAKXMa-Fy"
      },
      "source": [
        "df.to_excel(\"meu_gmail.xlsx\", index=False)"
      ],
      "execution_count": 35,
      "outputs": []
    }
  ]
}